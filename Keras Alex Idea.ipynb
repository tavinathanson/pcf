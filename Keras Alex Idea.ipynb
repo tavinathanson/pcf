{
 "cells": [
  {
   "cell_type": "code",
   "execution_count": 34,
   "metadata": {
    "collapsed": true
   },
   "outputs": [],
   "source": [
    "%matplotlib inline"
   ]
  },
  {
   "cell_type": "code",
   "execution_count": 35,
   "metadata": {
    "collapsed": true
   },
   "outputs": [],
   "source": [
    "from os import path\n",
    "import pandas as pd\n",
    "from skimage.data import imread\n",
    "from skimage.io import imshow\n",
    "import numpy as np\n",
    "import pandas as pd\n",
    "from numpy.random import randint, seed"
   ]
  },
  {
   "cell_type": "code",
   "execution_count": 36,
   "metadata": {
    "collapsed": false
   },
   "outputs": [],
   "source": [
    "from keras.models import Sequential\n",
    "from keras.layers.core import Dense, Dropout, Activation, Flatten\n",
    "from keras.layers.convolutional import Convolution2D, MaxPooling2D\n",
    "from keras.optimizers import SGD"
   ]
  },
  {
   "cell_type": "code",
   "execution_count": 37,
   "metadata": {
    "collapsed": true
   },
   "outputs": [],
   "source": [
    "nb_img = 256\n",
    "nb_img_depth = 3"
   ]
  },
  {
   "cell_type": "code",
   "execution_count": 38,
   "metadata": {
    "collapsed": true
   },
   "outputs": [],
   "source": [
    "nb_pool = 2\n",
    "nb_conv = 3\n",
    "nb_filters = 32"
   ]
  },
  {
   "cell_type": "code",
   "execution_count": 39,
   "metadata": {
    "collapsed": false
   },
   "outputs": [],
   "source": [
    "model = Sequential()\n",
    "\n",
    "model.add(Convolution2D(nb_filters, nb_conv, nb_conv, border_mode='valid', \n",
    "                        input_shape=(nb_img_depth, nb_img, nb_img)))\n",
    "model.add(Activation('relu'))\n",
    "model.add(MaxPooling2D(pool_size=(nb_pool, nb_pool)))\n",
    "\n",
    "#model.add(Convolution2D(nb_filters, nb_conv, nb_conv, border_mode='valid'))\n",
    "#model.add(Activation('relu'))\n",
    "#model.add(Convolution2D(nb_filters, nb_conv, nb_conv))\n",
    "#model.add(Activation('relu'))\n",
    "#model.add(MaxPooling2D(pool_size=(nb_pool, nb_pool)))\n",
    "#model.add(Dropout(0.25))\n",
    "\n",
    "model.add(Flatten())\n",
    "model.add(Dense(256))\n",
    "model.add(Activation('tanh'))\n",
    "model.add(Dense(1))\n",
    "model.add(Activation('sigmoid'))\n",
    "\n",
    "model.compile(loss='mse', optimizer='rmsprop')"
   ]
  },
  {
   "cell_type": "code",
   "execution_count": 40,
   "metadata": {
    "collapsed": true
   },
   "outputs": [],
   "source": [
    "from transform import load_training, transform_img"
   ]
  },
  {
   "cell_type": "code",
   "execution_count": 41,
   "metadata": {
    "collapsed": true
   },
   "outputs": [],
   "source": [
    "training = load_training()"
   ]
  },
  {
   "cell_type": "code",
   "execution_count": 42,
   "metadata": {
    "collapsed": true
   },
   "outputs": [],
   "source": [
    "def transform_pcf(training,\n",
    "                  output_dir=\"data-%d-patches\" % nb_img,\n",
    "                  patch_size=nb_img):\n",
    "    patch_num = 0\n",
    "    num_per_img_dict = {}\n",
    "    for i, row in training.iterrows():\n",
    "        row_patches = []\n",
    "        row_output = []\n",
    "        name = row['name']\n",
    "        print(\"Transforming image %s\" % name)\n",
    "        import sys\n",
    "        sys.stdout.flush()\n",
    "        for kind in [\"DX\", \"TS\"]:\n",
    "            num_per_img = 0\n",
    "            img = imread(\"images/%s/%s-%s.png\" % (kind, name, kind))\n",
    "            img_patches = transform_img(img, name, patch_size=patch_size)\n",
    "            from os import mkdir, path\n",
    "            if not path.exists(output_dir):\n",
    "                mkdir(output_dir)\n",
    "            for img_patch in img_patches:\n",
    "                with open(path.join(output_dir, \"patch_file_%s_%d\" % (\n",
    "                          name, patch_num)), 'w') as f:\n",
    "                    np.save(f, img_patch)\n",
    "                patch_num += 1\n",
    "                num_per_img += 1\n",
    "            num_per_img_dict[(name, kind)] = num_per_img\n",
    "    return num_per_img_dict"
   ]
  },
  {
   "cell_type": "code",
   "execution_count": 43,
   "metadata": {
    "collapsed": false
   },
   "outputs": [],
   "source": [
    "# num = transform_pcf(training)"
   ]
  },
  {
   "cell_type": "code",
   "execution_count": 45,
   "metadata": {
    "collapsed": false
   },
   "outputs": [
    {
     "data": {
      "text/plain": [
       "\"\\ndf_patches = pd.DataFrame({'name': [k[0] for k in num.keys()],\\n              'kind': [k[1] for k in num.keys()],\\n              'patches': num.values()})\\n\""
      ]
     },
     "execution_count": 45,
     "metadata": {},
     "output_type": "execute_result"
    }
   ],
   "source": [
    "\"\"\"\n",
    "df_patches = pd.DataFrame({'name': [k[0] for k in num.keys()],\n",
    "              'kind': [k[1] for k in num.keys()],\n",
    "              'patches': num.values()})\n",
    "\"\"\""
   ]
  },
  {
   "cell_type": "code",
   "execution_count": 47,
   "metadata": {
    "collapsed": false
   },
   "outputs": [],
   "source": [
    "# df_patches.to_csv('df_patches.csv')"
   ]
  },
  {
   "cell_type": "code",
   "execution_count": 48,
   "metadata": {
    "collapsed": false
   },
   "outputs": [],
   "source": [
    "fga_dict = training.set_index('name').to_dict()['fga']"
   ]
  },
  {
   "cell_type": "code",
   "execution_count": 49,
   "metadata": {
    "collapsed": false
   },
   "outputs": [],
   "source": [
    "def get_x_y(training, output_dir=\"data-%d-patches\" % nb_img):\n",
    "    from os import listdir\n",
    "    from numpy.random import choice, seed\n",
    "    seed(1234)\n",
    "    patches = []\n",
    "    outputs = []\n",
    "    patch_files = choice(listdir(output_dir), size=5000, replace=False)\n",
    "    for patch_file in patch_files:\n",
    "        name = patch_file.split(\"_\")[2]\n",
    "        patch = np.load(path.join(output_dir, \n",
    "                                  patch_file))\n",
    "        from skimage.feature import canny\n",
    "        from skimage.color import rgb2gray\n",
    "        #for rot in range(4):\n",
    "        #patches.append(np.rot90(patch, k=rot))\n",
    "        patches.append(patch)\n",
    "        outputs.append(fga_dict[name])\n",
    "    print(\"Merging X...\")\n",
    "    import sys\n",
    "    sys.stdout.flush()\n",
    "    X = np.asanyarray(patches)\n",
    "    print(\"Merging y...\")\n",
    "    sys.stdout.flush()\n",
    "    y = np.asanyarray(outputs)\n",
    "    return X, y"
   ]
  },
  {
   "cell_type": "code",
   "execution_count": 50,
   "metadata": {
    "collapsed": false
   },
   "outputs": [
    {
     "name": "stdout",
     "output_type": "stream",
     "text": [
      "Merging X...\n"
     ]
    },
    {
     "ename": "KeyboardInterrupt",
     "evalue": "",
     "output_type": "error",
     "traceback": [
      "\u001b[1;31m---------------------------------------------------------------------------\u001b[0m",
      "\u001b[1;31mKeyboardInterrupt\u001b[0m                         Traceback (most recent call last)",
      "\u001b[1;32m<ipython-input-50-bdd5d65ae0e6>\u001b[0m in \u001b[0;36m<module>\u001b[1;34m()\u001b[0m\n\u001b[1;32m----> 1\u001b[1;33m \u001b[0mX_train\u001b[0m\u001b[1;33m,\u001b[0m \u001b[0my_train\u001b[0m \u001b[1;33m=\u001b[0m \u001b[0mget_x_y\u001b[0m\u001b[1;33m(\u001b[0m\u001b[0mtraining\u001b[0m\u001b[1;33m)\u001b[0m\u001b[1;33m\u001b[0m\u001b[0m\n\u001b[0m",
      "\u001b[1;32m<ipython-input-49-8b5d5cf29328>\u001b[0m in \u001b[0;36mget_x_y\u001b[1;34m(training, output_dir)\u001b[0m\n\u001b[0;32m     19\u001b[0m     \u001b[1;32mimport\u001b[0m \u001b[0msys\u001b[0m\u001b[1;33m\u001b[0m\u001b[0m\n\u001b[0;32m     20\u001b[0m     \u001b[0msys\u001b[0m\u001b[1;33m.\u001b[0m\u001b[0mstdout\u001b[0m\u001b[1;33m.\u001b[0m\u001b[0mflush\u001b[0m\u001b[1;33m(\u001b[0m\u001b[1;33m)\u001b[0m\u001b[1;33m\u001b[0m\u001b[0m\n\u001b[1;32m---> 21\u001b[1;33m     \u001b[0mX\u001b[0m \u001b[1;33m=\u001b[0m \u001b[0mnp\u001b[0m\u001b[1;33m.\u001b[0m\u001b[0masanyarray\u001b[0m\u001b[1;33m(\u001b[0m\u001b[0mpatches\u001b[0m\u001b[1;33m)\u001b[0m\u001b[1;33m\u001b[0m\u001b[0m\n\u001b[0m\u001b[0;32m     22\u001b[0m     \u001b[1;32mprint\u001b[0m\u001b[1;33m(\u001b[0m\u001b[1;34m\"Merging y...\"\u001b[0m\u001b[1;33m)\u001b[0m\u001b[1;33m\u001b[0m\u001b[0m\n\u001b[0;32m     23\u001b[0m     \u001b[0msys\u001b[0m\u001b[1;33m.\u001b[0m\u001b[0mstdout\u001b[0m\u001b[1;33m.\u001b[0m\u001b[0mflush\u001b[0m\u001b[1;33m(\u001b[0m\u001b[1;33m)\u001b[0m\u001b[1;33m\u001b[0m\u001b[0m\n",
      "\u001b[1;32m/usr/lib/python2.7/dist-packages/numpy/core/numeric.pyc\u001b[0m in \u001b[0;36masanyarray\u001b[1;34m(a, dtype, order)\u001b[0m\n\u001b[0;32m    510\u001b[0m \u001b[1;33m\u001b[0m\u001b[0m\n\u001b[0;32m    511\u001b[0m     \"\"\"\n\u001b[1;32m--> 512\u001b[1;33m     \u001b[1;32mreturn\u001b[0m \u001b[0marray\u001b[0m\u001b[1;33m(\u001b[0m\u001b[0ma\u001b[0m\u001b[1;33m,\u001b[0m \u001b[0mdtype\u001b[0m\u001b[1;33m,\u001b[0m \u001b[0mcopy\u001b[0m\u001b[1;33m=\u001b[0m\u001b[0mFalse\u001b[0m\u001b[1;33m,\u001b[0m \u001b[0morder\u001b[0m\u001b[1;33m=\u001b[0m\u001b[0morder\u001b[0m\u001b[1;33m,\u001b[0m \u001b[0msubok\u001b[0m\u001b[1;33m=\u001b[0m\u001b[0mTrue\u001b[0m\u001b[1;33m)\u001b[0m\u001b[1;33m\u001b[0m\u001b[0m\n\u001b[0m\u001b[0;32m    513\u001b[0m \u001b[1;33m\u001b[0m\u001b[0m\n\u001b[0;32m    514\u001b[0m \u001b[1;32mdef\u001b[0m \u001b[0mascontiguousarray\u001b[0m\u001b[1;33m(\u001b[0m\u001b[0ma\u001b[0m\u001b[1;33m,\u001b[0m \u001b[0mdtype\u001b[0m\u001b[1;33m=\u001b[0m\u001b[0mNone\u001b[0m\u001b[1;33m)\u001b[0m\u001b[1;33m:\u001b[0m\u001b[1;33m\u001b[0m\u001b[0m\n",
      "\u001b[1;31mKeyboardInterrupt\u001b[0m: "
     ]
    }
   ],
   "source": [
    "X_train, y_train = get_x_y(training)"
   ]
  },
  {
   "cell_type": "code",
   "execution_count": null,
   "metadata": {
    "collapsed": false
   },
   "outputs": [],
   "source": [
    "X_train.shape"
   ]
  },
  {
   "cell_type": "code",
   "execution_count": null,
   "metadata": {
    "collapsed": false
   },
   "outputs": [],
   "source": [
    "X_train = X_train.transpose((0, 3, 2, 1))"
   ]
  },
  {
   "cell_type": "code",
   "execution_count": null,
   "metadata": {
    "collapsed": false
   },
   "outputs": [],
   "source": [
    "X_train.shape"
   ]
  },
  {
   "cell_type": "code",
   "execution_count": null,
   "metadata": {
    "collapsed": false
   },
   "outputs": [],
   "source": [
    "y_train.shape"
   ]
  },
  {
   "cell_type": "code",
   "execution_count": 28,
   "metadata": {
    "collapsed": false
   },
   "outputs": [
    {
     "name": "stdout",
     "output_type": "stream",
     "text": [
      "Epoch 1/10\n",
      "5000/5000 [==============================] - 40s - loss: 0.0181    \n",
      "Epoch 2/10\n",
      "5000/5000 [==============================] - 40s - loss: 0.0178    \n",
      "Epoch 3/10\n",
      "5000/5000 [==============================] - 40s - loss: 0.0179    \n",
      "Epoch 4/10\n",
      "5000/5000 [==============================] - 40s - loss: 0.0178    \n",
      "Epoch 5/10\n",
      "5000/5000 [==============================] - 40s - loss: 0.0178    \n",
      "Epoch 6/10\n",
      "5000/5000 [==============================] - 40s - loss: 0.0179    \n",
      "Epoch 7/10\n",
      "5000/5000 [==============================] - 40s - loss: 0.0178    \n",
      "Epoch 8/10\n",
      "5000/5000 [==============================] - 40s - loss: 0.0178    \n",
      "Epoch 9/10\n",
      "5000/5000 [==============================] - 40s - loss: 0.0179    \n",
      "Epoch 10/10\n",
      "5000/5000 [==============================] - 40s - loss: 0.0178    \n"
     ]
    },
    {
     "data": {
      "text/plain": [
       "<keras.callbacks.History at 0x7f0d9f9e4090>"
      ]
     },
     "execution_count": 28,
     "metadata": {},
     "output_type": "execute_result"
    }
   ],
   "source": [
    "model.fit(X_train, y_train, batch_size=32, nb_epoch=10)"
   ]
  },
  {
   "cell_type": "code",
   "execution_count": null,
   "metadata": {
    "collapsed": true
   },
   "outputs": [],
   "source": [
    "def get_x_y_pair(training, output_dir=\"data-%d-patches\" % nb_img):\n",
    "    from os import listdir\n",
    "    from numpy.random import choice, seed\n",
    "    seed(1234)\n",
    "    patches = []\n",
    "    outputs = []\n",
    "    patch_files = choice(listdir(output_dir), size=2, replace=False)\n",
    "    for patch_file in patch_files:\n",
    "        name = patch_file.split(\"_\")[2]\n",
    "        patch = np.load(path.join(output_dir, \n",
    "                                  patch_file))\n",
    "        for i in range(1000):\n",
    "            patches.append(patch)\n",
    "            outputs.append(fga_dict[name])\n",
    "    print(\"Merging X...\")\n",
    "    import sys\n",
    "    sys.stdout.flush()\n",
    "    X = np.asanyarray(patches)\n",
    "    print(\"Merging y...\")\n",
    "    sys.stdout.flush()\n",
    "    y = np.asanyarray(outputs)\n",
    "    return X, y"
   ]
  },
  {
   "cell_type": "code",
   "execution_count": null,
   "metadata": {
    "collapsed": false
   },
   "outputs": [],
   "source": [
    "X_single, y_single = get_x_y_single(training)"
   ]
  },
  {
   "cell_type": "code",
   "execution_count": null,
   "metadata": {
    "collapsed": true
   },
   "outputs": [],
   "source": [
    "X_single = X_single.transpose((0, 3, 2, 1))"
   ]
  },
  {
   "cell_type": "code",
   "execution_count": null,
   "metadata": {
    "collapsed": false
   },
   "outputs": [],
   "source": [
    "y_single"
   ]
  },
  {
   "cell_type": "code",
   "execution_count": null,
   "metadata": {
    "collapsed": false
   },
   "outputs": [],
   "source": [
    "model.fit(X_single, y_single, batch_size=32, nb_epoch=10)"
   ]
  },
  {
   "cell_type": "code",
   "execution_count": null,
   "metadata": {
    "collapsed": true
   },
   "outputs": [],
   "source": []
  }
 ],
 "metadata": {
  "kernelspec": {
   "display_name": "Python 2",
   "language": "python",
   "name": "python2"
  },
  "language_info": {
   "codemirror_mode": {
    "name": "ipython",
    "version": 2
   },
   "file_extension": ".py",
   "mimetype": "text/x-python",
   "name": "python",
   "nbconvert_exporter": "python",
   "pygments_lexer": "ipython2",
   "version": "2.7.6"
  }
 },
 "nbformat": 4,
 "nbformat_minor": 0
}
