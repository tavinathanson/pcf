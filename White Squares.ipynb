{
 "cells": [
  {
   "cell_type": "code",
   "execution_count": 159,
   "metadata": {
    "collapsed": true
   },
   "outputs": [],
   "source": [
    "%matplotlib inline"
   ]
  },
  {
   "cell_type": "code",
   "execution_count": 160,
   "metadata": {
    "collapsed": true
   },
   "outputs": [],
   "source": [
    "import numpy as np\n",
    "from skimage.io import imshow, imread, imsave\n",
    "from skimage.color import rgb2gray\n",
    "from skimage.exposure import equalize_hist\n",
    "import pandas as pd"
   ]
  },
  {
   "cell_type": "code",
   "execution_count": 161,
   "metadata": {
    "collapsed": true
   },
   "outputs": [],
   "source": [
    "def white_filter_fun(mean):\n",
    "    return mean >= 0.9"
   ]
  },
  {
   "cell_type": "code",
   "execution_count": 162,
   "metadata": {
    "collapsed": true
   },
   "outputs": [],
   "source": [
    "def get_mean(shape, row, col, padding):\n",
    "    if row + padding > shape.shape[0] or col + padding > shape.shape[1]:\n",
    "        return None\n",
    "\n",
    "    return np.mean(shape[row:row + padding,\n",
    "                         col:col + padding])"
   ]
  },
  {
   "cell_type": "code",
   "execution_count": 186,
   "metadata": {
    "collapsed": true
   },
   "outputs": [],
   "source": [
    "def get_max_ratio(img, filter_fun, min_square=25):\n",
    "    # Problem: includes overlapping boxes\n",
    "    max_size_found = 0\n",
    "    max_ratio_found = 0\n",
    "    for i, row in enumerate(img):\n",
    "        for j, col in enumerate(row):\n",
    "            padding = max(min_square, max_size_found) # Minimize size square\n",
    "            if filter_fun(img[i, j]):\n",
    "                mean = get_mean(img, i, j, padding)\n",
    "                if not mean:\n",
    "                    continue\n",
    "                while filter_fun(mean):\n",
    "                    padding += 1\n",
    "                    mean = get_mean(img, i, j, padding)\n",
    "                    if not mean:\n",
    "                        break\n",
    "                sizes.append(padding)\n",
    "                if padding > max_size_found:\n",
    "                    max_size_found = padding\n",
    "                    img_area = img.shape[0] * img.shape[1]\n",
    "                    max_ratio_found = ((padding * padding) / float(img_area)) * 100\n",
    "    return max_ratio_found"
   ]
  },
  {
   "cell_type": "code",
   "execution_count": 185,
   "metadata": {
    "collapsed": false
   },
   "outputs": [],
   "source": [
    "def get_sizes(img, filter_fun, min_square=25):\n",
    "    # Problem: includes overlapping boxes\n",
    "    sizes = []\n",
    "    ratios = []\n",
    "    for i, row in enumerate(img):\n",
    "        for j, col in enumerate(row):\n",
    "            padding = min_square # Minimize size square\n",
    "            if filter_fun(img[i, j]):\n",
    "                mean = get_mean(img, i, j, padding)\n",
    "                if not mean:\n",
    "                    continue\n",
    "                while filter_fun(mean):\n",
    "                    padding += 1\n",
    "                    mean = get_mean(img, i, j, padding)\n",
    "                    if not mean:\n",
    "                        break\n",
    "                sizes.append(padding)\n",
    "                img_area = img.shape[0] * img.shape[1]\n",
    "                ratios.append(((padding * padding) / float(img_area)) * 100)\n",
    "    return sizes, ratios"
   ]
  },
  {
   "cell_type": "code",
   "execution_count": 166,
   "metadata": {
    "collapsed": true
   },
   "outputs": [],
   "source": [
    "from transform import load_training\n",
    "training = load_training()"
   ]
  },
  {
   "cell_type": "code",
   "execution_count": 190,
   "metadata": {
    "collapsed": false
   },
   "outputs": [
    {
     "name": "stdout",
     "output_type": "stream",
     "text": [
      "Transforming image 10500\n",
      "Ratio 0.07\n",
      "Ratio 0.03\n",
      "Transforming image 10549\n",
      "Ratio 0.46\n",
      "Ratio 0.04\n",
      "Transforming image 11169\n",
      "Ratio 0.02\n",
      "Ratio 0.39\n",
      "Transforming image 13188\n",
      "Ratio 0.20\n",
      "Ratio 0.04\n",
      "Transforming image 13699\n",
      "Ratio 0.12\n",
      "Ratio 0.39\n",
      "Transforming image 14812\n",
      "Ratio 0.21\n",
      "Ratio 0.01\n",
      "Transforming image 15160\n",
      "Ratio 0.06\n",
      "Ratio 0.56\n",
      "Transforming image 15456\n",
      "Ratio 0.05\n"
     ]
    },
    {
     "ename": "KeyboardInterrupt",
     "evalue": "",
     "output_type": "error",
     "traceback": [
      "\u001b[0;31m---------------------------------------------------------------------------\u001b[0m",
      "\u001b[0;31mKeyboardInterrupt\u001b[0m                         Traceback (most recent call last)",
      "\u001b[0;32m<ipython-input-190-29b16edcc76f>\u001b[0m in \u001b[0;36m<module>\u001b[0;34m()\u001b[0m\n\u001b[1;32m     10\u001b[0m     \u001b[0;32mfor\u001b[0m \u001b[0mkind\u001b[0m \u001b[0;32min\u001b[0m \u001b[0;34m[\u001b[0m\u001b[0;34m\"DX\"\u001b[0m\u001b[0;34m,\u001b[0m \u001b[0;34m\"TS\"\u001b[0m\u001b[0;34m]\u001b[0m\u001b[0;34m:\u001b[0m\u001b[0;34m\u001b[0m\u001b[0m\n\u001b[1;32m     11\u001b[0m         \u001b[0mimg\u001b[0m \u001b[0;34m=\u001b[0m \u001b[0mnp\u001b[0m\u001b[0;34m.\u001b[0m\u001b[0mload\u001b[0m\u001b[0;34m(\u001b[0m\u001b[0;34m\"images-cropped/%s/%s-%s.png\"\u001b[0m \u001b[0;34m%\u001b[0m \u001b[0;34m(\u001b[0m\u001b[0mkind\u001b[0m\u001b[0;34m,\u001b[0m \u001b[0mname\u001b[0m\u001b[0;34m,\u001b[0m \u001b[0mkind\u001b[0m\u001b[0;34m)\u001b[0m\u001b[0;34m)\u001b[0m\u001b[0;34m\u001b[0m\u001b[0m\n\u001b[0;32m---> 12\u001b[0;31m         \u001b[0mratio\u001b[0m \u001b[0;34m=\u001b[0m \u001b[0mget_max_ratio\u001b[0m\u001b[0;34m(\u001b[0m\u001b[0mimg\u001b[0m\u001b[0;34m,\u001b[0m \u001b[0mwhite_filter_fun\u001b[0m\u001b[0;34m)\u001b[0m\u001b[0;34m\u001b[0m\u001b[0m\n\u001b[0m\u001b[1;32m     13\u001b[0m         \u001b[0mratios\u001b[0m\u001b[0;34m.\u001b[0m\u001b[0mappend\u001b[0m\u001b[0;34m(\u001b[0m\u001b[0mratio\u001b[0m\u001b[0;34m)\u001b[0m\u001b[0;34m\u001b[0m\u001b[0m\n\u001b[1;32m     14\u001b[0m         \u001b[0;32mprint\u001b[0m\u001b[0;34m(\u001b[0m\u001b[0;34m\"Ratio %0.2f\"\u001b[0m \u001b[0;34m%\u001b[0m \u001b[0mratio\u001b[0m\u001b[0;34m)\u001b[0m\u001b[0;34m\u001b[0m\u001b[0m\n",
      "\u001b[0;32m<ipython-input-186-ce66bf7f9c1d>\u001b[0m in \u001b[0;36mget_max_ratio\u001b[0;34m(img, filter_fun, min_square)\u001b[0m\n\u001b[1;32m      7\u001b[0m             \u001b[0mpadding\u001b[0m \u001b[0;34m=\u001b[0m \u001b[0mmax\u001b[0m\u001b[0;34m(\u001b[0m\u001b[0mmin_square\u001b[0m\u001b[0;34m,\u001b[0m \u001b[0mmax_size_found\u001b[0m\u001b[0;34m)\u001b[0m \u001b[0;31m# Minimize size square\u001b[0m\u001b[0;34m\u001b[0m\u001b[0m\n\u001b[1;32m      8\u001b[0m             \u001b[0;32mif\u001b[0m \u001b[0mfilter_fun\u001b[0m\u001b[0;34m(\u001b[0m\u001b[0mimg\u001b[0m\u001b[0;34m[\u001b[0m\u001b[0mi\u001b[0m\u001b[0;34m,\u001b[0m \u001b[0mj\u001b[0m\u001b[0;34m]\u001b[0m\u001b[0;34m)\u001b[0m\u001b[0;34m:\u001b[0m\u001b[0;34m\u001b[0m\u001b[0m\n\u001b[0;32m----> 9\u001b[0;31m                 \u001b[0mmean\u001b[0m \u001b[0;34m=\u001b[0m \u001b[0mget_mean\u001b[0m\u001b[0;34m(\u001b[0m\u001b[0mimg\u001b[0m\u001b[0;34m,\u001b[0m \u001b[0mi\u001b[0m\u001b[0;34m,\u001b[0m \u001b[0mj\u001b[0m\u001b[0;34m,\u001b[0m \u001b[0mpadding\u001b[0m\u001b[0;34m)\u001b[0m\u001b[0;34m\u001b[0m\u001b[0m\n\u001b[0m\u001b[1;32m     10\u001b[0m                 \u001b[0;32mif\u001b[0m \u001b[0;32mnot\u001b[0m \u001b[0mmean\u001b[0m\u001b[0;34m:\u001b[0m\u001b[0;34m\u001b[0m\u001b[0m\n\u001b[1;32m     11\u001b[0m                     \u001b[0;32mcontinue\u001b[0m\u001b[0;34m\u001b[0m\u001b[0m\n",
      "\u001b[0;32m<ipython-input-162-cc304a4faac3>\u001b[0m in \u001b[0;36mget_mean\u001b[0;34m(shape, row, col, padding)\u001b[0m\n\u001b[1;32m      4\u001b[0m \u001b[0;34m\u001b[0m\u001b[0m\n\u001b[1;32m      5\u001b[0m     return np.mean(shape[row:row + padding,\n\u001b[0;32m----> 6\u001b[0;31m                          col:col + padding])\n\u001b[0m",
      "\u001b[0;32m/Users/tavi/.virtualenvs/pcf/lib/python2.7/site-packages/numpy/core/fromnumeric.pyc\u001b[0m in \u001b[0;36mmean\u001b[0;34m(a, axis, dtype, out, keepdims)\u001b[0m\n\u001b[1;32m   2872\u001b[0m \u001b[0;34m\u001b[0m\u001b[0m\n\u001b[1;32m   2873\u001b[0m     return _methods._mean(a, axis=axis, dtype=dtype,\n\u001b[0;32m-> 2874\u001b[0;31m                           out=out, keepdims=keepdims)\n\u001b[0m\u001b[1;32m   2875\u001b[0m \u001b[0;34m\u001b[0m\u001b[0m\n\u001b[1;32m   2876\u001b[0m \u001b[0;34m\u001b[0m\u001b[0m\n",
      "\u001b[0;32m/Users/tavi/.virtualenvs/pcf/lib/python2.7/site-packages/numpy/core/_methods.pyc\u001b[0m in \u001b[0;36m_mean\u001b[0;34m(a, axis, dtype, out, keepdims)\u001b[0m\n\u001b[1;32m     63\u001b[0m         \u001b[0mdtype\u001b[0m \u001b[0;34m=\u001b[0m \u001b[0mmu\u001b[0m\u001b[0;34m.\u001b[0m\u001b[0mdtype\u001b[0m\u001b[0;34m(\u001b[0m\u001b[0;34m'f8'\u001b[0m\u001b[0;34m)\u001b[0m\u001b[0;34m\u001b[0m\u001b[0m\n\u001b[1;32m     64\u001b[0m \u001b[0;34m\u001b[0m\u001b[0m\n\u001b[0;32m---> 65\u001b[0;31m     \u001b[0mret\u001b[0m \u001b[0;34m=\u001b[0m \u001b[0mumr_sum\u001b[0m\u001b[0;34m(\u001b[0m\u001b[0marr\u001b[0m\u001b[0;34m,\u001b[0m \u001b[0maxis\u001b[0m\u001b[0;34m,\u001b[0m \u001b[0mdtype\u001b[0m\u001b[0;34m,\u001b[0m \u001b[0mout\u001b[0m\u001b[0;34m,\u001b[0m \u001b[0mkeepdims\u001b[0m\u001b[0;34m)\u001b[0m\u001b[0;34m\u001b[0m\u001b[0m\n\u001b[0m\u001b[1;32m     66\u001b[0m     \u001b[0;32mif\u001b[0m \u001b[0misinstance\u001b[0m\u001b[0;34m(\u001b[0m\u001b[0mret\u001b[0m\u001b[0;34m,\u001b[0m \u001b[0mmu\u001b[0m\u001b[0;34m.\u001b[0m\u001b[0mndarray\u001b[0m\u001b[0;34m)\u001b[0m\u001b[0;34m:\u001b[0m\u001b[0;34m\u001b[0m\u001b[0m\n\u001b[1;32m     67\u001b[0m         ret = um.true_divide(\n",
      "\u001b[0;31mKeyboardInterrupt\u001b[0m: "
     ]
    }
   ],
   "source": [
    "ratios = []\n",
    "for i, row in training.iterrows():\n",
    "    row_patches = []\n",
    "    row_output = []\n",
    "    name = row['name']\n",
    "    fga = row['fga']\n",
    "    print(\"Transforming image %s\" % name)\n",
    "    import sys\n",
    "    sys.stdout.flush()\n",
    "    for kind in [\"DX\", \"TS\"]:\n",
    "        img = np.load(\"images-cropped/%s/%s-%s.png\" % (kind, name, kind))\n",
    "        ratio = get_max_ratio(img, white_filter_fun)\n",
    "        ratios.append(ratio)\n",
    "        print(\"Ratio %0.2f\" % ratio)"
   ]
  },
  {
   "cell_type": "code",
   "execution_count": null,
   "metadata": {
    "collapsed": true
   },
   "outputs": [],
   "source": []
  }
 ],
 "metadata": {
  "kernelspec": {
   "display_name": "Python 2",
   "language": "python",
   "name": "python2"
  },
  "language_info": {
   "codemirror_mode": {
    "name": "ipython",
    "version": 2
   },
   "file_extension": ".py",
   "mimetype": "text/x-python",
   "name": "python",
   "nbconvert_exporter": "python",
   "pygments_lexer": "ipython2",
   "version": "2.7.9"
  }
 },
 "nbformat": 4,
 "nbformat_minor": 0
}
