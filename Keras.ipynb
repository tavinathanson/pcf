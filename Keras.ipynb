{
 "cells": [
  {
   "cell_type": "code",
   "execution_count": 12,
   "metadata": {
    "collapsed": true
   },
   "outputs": [],
   "source": [
    "%matplotlib inline"
   ]
  },
  {
   "cell_type": "code",
   "execution_count": 13,
   "metadata": {
    "collapsed": false
   },
   "outputs": [],
   "source": [
    "from os import path\n",
    "import pandas as pd\n",
    "from skimage.data import imread\n",
    "from skimage.io import imshow\n",
    "import numpy as np\n",
    "import pandas as pd"
   ]
  },
  {
   "cell_type": "code",
   "execution_count": 14,
   "metadata": {
    "collapsed": false
   },
   "outputs": [],
   "source": [
    "from keras.models import Sequential\n",
    "from keras.layers.core import Dense, Dropout, Activation, Flatten\n",
    "from keras.layers.convolutional import Convolution2D, MaxPooling2D"
   ]
  },
  {
   "cell_type": "code",
   "execution_count": 15,
   "metadata": {
    "collapsed": false
   },
   "outputs": [],
   "source": [
    "img_rows, img_cols = 32, 32\n",
    "img_depth = 3"
   ]
  },
  {
   "cell_type": "code",
   "execution_count": 16,
   "metadata": {
    "collapsed": true
   },
   "outputs": [],
   "source": [
    "nb_pool = 2\n",
    "nb_conv = 3\n",
    "nb_filters = 32"
   ]
  },
  {
   "cell_type": "code",
   "execution_count": 17,
   "metadata": {
    "collapsed": false
   },
   "outputs": [],
   "source": [
    "model = Sequential()\n",
    "\n",
    "model.add(Convolution2D(nb_filters, nb_conv, nb_conv,\n",
    "                        border_mode='valid',\n",
    "                        input_shape=(img_depth, img_rows, img_cols)))\n",
    "model.add(Activation('relu'))\n",
    "model.add(Convolution2D(nb_filters, nb_conv, nb_conv))\n",
    "model.add(Activation('relu'))\n",
    "model.add(MaxPooling2D(pool_size=(nb_pool, nb_pool)))\n",
    "model.add(Dropout(0.25))\n",
    "\n",
    "model.add(Flatten())\n",
    "model.add(Dense(128)) # 32 * 32 / 2 / 4\n",
    "model.add(Activation('relu'))\n",
    "model.add(Dense(1))\n",
    "\n",
    "model.compile(loss='mean_squared_error', optimizer='rmsprop')"
   ]
  },
  {
   "cell_type": "code",
   "execution_count": 18,
   "metadata": {
    "collapsed": true
   },
   "outputs": [],
   "source": [
    "def chunks(X, y, n):\n",
    "    \"\"\"Yield successive n-sized chunks from l.\"\"\"\n",
    "    assert len(X) == len(y)\n",
    "    for i in xrange(0, len(X), n):\n",
    "        yield (X[i:i+n], y[i:i+n])"
   ]
  },
  {
   "cell_type": "code",
   "execution_count": null,
   "metadata": {
    "collapsed": false
   },
   "outputs": [
    {
     "name": "stdout",
     "output_type": "stream",
     "text": [
      "----------------------------------------\n",
      "('Epoch', 0)\n",
      "----------------------------------------\n",
      "Training...\n",
      "Image 10500...\n",
      "Chunk 0 of 134\n",
      "Chunk 1 of 134\n",
      "Chunk 2 of 134\n",
      "Chunk 3 of 134\n",
      "Chunk 4 of 134\n",
      "Chunk 5 of 134\n",
      "Chunk 6 of 134"
     ]
    }
   ],
   "source": [
    "nb_epoch = 10\n",
    "training = pd.read_csv(\"training.csv\", \n",
    "                       header=None,\n",
    "                       names=['name', 'fga'],\n",
    "                       dtype={'name': object, 'fga': float})\n",
    "from keras.utils import generic_utils\n",
    "for e in range(nb_epoch):\n",
    "    print('-' * 40)\n",
    "    print('Epoch', e)\n",
    "    print('-' * 40)\n",
    "    print('Training...')\n",
    "    for i, row in training.iterrows():\n",
    "        name = row['name']\n",
    "        print(\"Image %s...\" % name)\n",
    "        num_chunks = 0\n",
    "        X_train = np.load(path.join(\"data\", \"X_file_%s\" % name))\n",
    "        X_train = X_train.transpose((0, 3, 2, 1))\n",
    "        y_train = np.load(path.join(\"data\", \"y_file_%s\" % name))\n",
    "        for X_chunk, y_chunk in chunks(X_train, y_train, 1000):\n",
    "            print(\"Chunk %d of %d\" % (num_chunks, len(X_train) / 1000.0))\n",
    "            model.train_on_batch(X_chunk, y_chunk)\n",
    "            num_chunks += 1"
   ]
  },
  {
   "cell_type": "code",
   "execution_count": null,
   "metadata": {
    "collapsed": true
   },
   "outputs": [],
   "source": []
  }
 ],
 "metadata": {
  "kernelspec": {
   "display_name": "Python 2",
   "language": "python",
   "name": "python2"
  },
  "language_info": {
   "codemirror_mode": {
    "name": "ipython",
    "version": 2
   },
   "file_extension": ".py",
   "mimetype": "text/x-python",
   "name": "python",
   "nbconvert_exporter": "python",
   "pygments_lexer": "ipython2",
   "version": "2.7.10"
  }
 },
 "nbformat": 4,
 "nbformat_minor": 0
}
